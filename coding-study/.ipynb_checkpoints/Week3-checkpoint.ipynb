{
 "cells": [
  {
   "cell_type": "code",
   "execution_count": 4,
   "metadata": {},
   "outputs": [
    {
     "name": "stdout",
     "output_type": "stream",
     "text": [
      "3 2\n",
      "1 3\n",
      "2 3\n",
      "[1, 2, 3]\n"
     ]
    }
   ],
   "source": [
    "from collections import deque\n",
    "n,m = map(int,input().split())\n",
    "indegree = [0] * (n+1)\n",
    "graph = [[] for _ in range(n+1)]\n",
    "for _ in range(m):\n",
    "    a,b = map(int,input().split())\n",
    "    graph[a].append(b)\n",
    "    indegree[b] += 1\n",
    "q = deque()\n",
    "for i in range(1,n+1):\n",
    "    if indegree[i] == 0:\n",
    "        q.append(i)\n",
    "answer = []\n",
    "while q:\n",
    "    front = q.popleft()\n",
    "    answer.append(front)\n",
    "    for incident in graph[front]:\n",
    "        indegree[incident] -= 1\n",
    "        if indegree[incident] == 0:\n",
    "            q.append(incident)\n",
    "for i in range(len(answer)):\n",
    "    print(answer[i],end= ' ')\n",
    "       "
   ]
  },
  {
   "cell_type": "code",
   "execution_count": null,
   "metadata": {},
   "outputs": [],
   "source": []
  }
 ],
 "metadata": {
  "kernelspec": {
   "display_name": "Python 3",
   "language": "python",
   "name": "python3"
  },
  "language_info": {
   "codemirror_mode": {
    "name": "ipython",
    "version": 3
   },
   "file_extension": ".py",
   "mimetype": "text/x-python",
   "name": "python",
   "nbconvert_exporter": "python",
   "pygments_lexer": "ipython3",
   "version": "3.8.5"
  }
 },
 "nbformat": 4,
 "nbformat_minor": 4
}
