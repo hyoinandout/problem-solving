{
 "cells": [
  {
   "cell_type": "code",
   "execution_count": 10,
   "metadata": {},
   "outputs": [
    {
     "name": "stdout",
     "output_type": "stream",
     "text": [
      "4 2\n",
      "1 1\n",
      "1 2\n",
      "1 3\n",
      "1 4\n",
      "2 2\n",
      "2 3\n",
      "2 4\n",
      "3 3\n",
      "3 4\n",
      "4 4\n"
     ]
    }
   ],
   "source": [
    "#15652 N과 M\n",
    "n,m = map(int,input().split())\n",
    "a = []\n",
    "def combination(n,m,cnt,k):\n",
    "    if m == cnt:\n",
    "        print(' '.join(map(str,a)))\n",
    "        return\n",
    "    for i in range(k,n+1):\n",
    "        a.append(i)\n",
    "        combination(n,m,cnt+1,i)\n",
    "        a.pop()\n",
    "combination(n,m,0,1)        "
   ]
  },
  {
   "cell_type": "code",
   "execution_count": 42,
   "metadata": {},
   "outputs": [
    {
     "name": "stdout",
     "output_type": "stream",
     "text": [
      "4 2\n",
      "9 8 7 1\n",
      "<itertools.combinations_with_replacement object at 0x7f2f64fdfd60>\n",
      "(1, 1)\n",
      "1 1\n",
      "(1, 7)\n",
      "1 7\n",
      "(1, 8)\n",
      "1 8\n",
      "(1, 9)\n",
      "1 9\n",
      "(7, 7)\n",
      "7 7\n",
      "(7, 8)\n",
      "7 8\n",
      "(7, 9)\n",
      "7 9\n",
      "(8, 8)\n",
      "8 8\n",
      "(8, 9)\n",
      "8 9\n",
      "(9, 9)\n",
      "9 9\n"
     ]
    }
   ],
   "source": [
    "#15657 N과 M(8)\n",
    "from itertools import combinations_with_replacement\n",
    "n,m = map(int,input().split())\n",
    "a = list(map(int,input().split()))\n",
    "a.sort()\n",
    "a = combinations_with_replacement(a,m)\n",
    "print(a)\n",
    "for i in a:\n",
    "    print(i)\n",
    "    print(' '.join(list(map(str,i))))"
   ]
  },
  {
   "cell_type": "code",
   "execution_count": 46,
   "metadata": {},
   "outputs": [
    {
     "name": "stdout",
     "output_type": "stream",
     "text": [
      "4 2\n",
      "9 8 7 1\n",
      "9 8\n",
      "9 7\n",
      "9 1\n",
      "8 8\n",
      "8 7\n",
      "8 1\n",
      "7 8\n",
      "7 7\n",
      "7 1\n",
      "1 8\n",
      "1 7\n",
      "1 1\n"
     ]
    }
   ],
   "source": [
    "#15652 N과 M\n",
    "n,m = map(int,input().split())\n",
    "a = []\n",
    "b = list(map(int,input().split()))\n",
    "def combination(n,m,cnt,k):\n",
    "    if m == cnt:\n",
    "        print(' '.join(map(str,a)))\n",
    "        return\n",
    "    for i in b[k:]:\n",
    "        a.append(i)\n",
    "        combination(n,m,cnt+1,k+1)\n",
    "        a.pop()\n",
    "combination(n,m,0,0)        "
   ]
  },
  {
   "cell_type": "code",
   "execution_count": 106,
   "metadata": {},
   "outputs": [
    {
     "name": "stdout",
     "output_type": "stream",
     "text": [
      "4 2\n",
      "9 7 9 1\n",
      "1 7\n",
      "1 9\n",
      "7 1\n",
      "7 9\n",
      "9 1\n",
      "9 7\n",
      "9 9\n"
     ]
    }
   ],
   "source": [
    "#15663 n과 m (9)\n",
    "from itertools import permutations\n",
    "n,m = map(int,input().split())\n",
    "a = list(map(int, input().split()))\n",
    "a.sort()\n",
    "b = []\n",
    "b = set(b)\n",
    "for i in permutations(a,m):\n",
    "    if i not in b:\n",
    "        b.add(i)\n",
    "        print(' '.join(map(str,i)))"
   ]
  },
  {
   "cell_type": "code",
   "execution_count": null,
   "metadata": {},
   "outputs": [],
   "source": []
  }
 ],
 "metadata": {
  "kernelspec": {
   "display_name": "Python 3",
   "language": "python",
   "name": "python3"
  },
  "language_info": {
   "codemirror_mode": {
    "name": "ipython",
    "version": 3
   },
   "file_extension": ".py",
   "mimetype": "text/x-python",
   "name": "python",
   "nbconvert_exporter": "python",
   "pygments_lexer": "ipython3",
   "version": "3.8.5"
  }
 },
 "nbformat": 4,
 "nbformat_minor": 4
}
