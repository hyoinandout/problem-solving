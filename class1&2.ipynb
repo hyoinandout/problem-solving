{
 "cells": [
  {
   "cell_type": "code",
   "execution_count": 1,
   "metadata": {},
   "outputs": [
    {
     "ename": "KeyboardInterrupt",
     "evalue": "Interrupted by user",
     "output_type": "error",
     "traceback": [
      "\u001b[0;31m---------------------------------------------------------------------------\u001b[0m",
      "\u001b[0;31mKeyboardInterrupt\u001b[0m                         Traceback (most recent call last)",
      "\u001b[0;32m<ipython-input-1-47a71be9de08>\u001b[0m in \u001b[0;36m<module>\u001b[0;34m\u001b[0m\n\u001b[0;32m----> 1\u001b[0;31m \u001b[0ma\u001b[0m \u001b[0;34m=\u001b[0m \u001b[0mint\u001b[0m\u001b[0;34m(\u001b[0m\u001b[0minput\u001b[0m\u001b[0;34m(\u001b[0m\u001b[0;34m)\u001b[0m\u001b[0;34m)\u001b[0m\u001b[0;34m\u001b[0m\u001b[0;34m\u001b[0m\u001b[0m\n\u001b[0m\u001b[1;32m      2\u001b[0m \u001b[0mb\u001b[0m \u001b[0;34m=\u001b[0m \u001b[0mint\u001b[0m\u001b[0;34m(\u001b[0m\u001b[0minput\u001b[0m\u001b[0;34m(\u001b[0m\u001b[0;34m)\u001b[0m\u001b[0;34m)\u001b[0m\u001b[0;34m\u001b[0m\u001b[0;34m\u001b[0m\u001b[0m\n\u001b[1;32m      3\u001b[0m \u001b[0mc\u001b[0m \u001b[0;34m=\u001b[0m \u001b[0mint\u001b[0m\u001b[0;34m(\u001b[0m\u001b[0minput\u001b[0m\u001b[0;34m(\u001b[0m\u001b[0;34m)\u001b[0m\u001b[0;34m)\u001b[0m\u001b[0;34m\u001b[0m\u001b[0;34m\u001b[0m\u001b[0m\n\u001b[1;32m      4\u001b[0m \u001b[0md\u001b[0m \u001b[0;34m=\u001b[0m \u001b[0ma\u001b[0m\u001b[0;34m*\u001b[0m\u001b[0mb\u001b[0m\u001b[0;34m*\u001b[0m\u001b[0mc\u001b[0m\u001b[0;34m\u001b[0m\u001b[0;34m\u001b[0m\u001b[0m\n\u001b[1;32m      5\u001b[0m \u001b[0me\u001b[0m \u001b[0;34m=\u001b[0m \u001b[0;34m[\u001b[0m\u001b[0;36m0\u001b[0m \u001b[0;32mfor\u001b[0m \u001b[0mi\u001b[0m \u001b[0;32min\u001b[0m \u001b[0mrange\u001b[0m\u001b[0;34m(\u001b[0m\u001b[0;36m10\u001b[0m\u001b[0;34m)\u001b[0m\u001b[0;34m]\u001b[0m\u001b[0;34m\u001b[0m\u001b[0;34m\u001b[0m\u001b[0m\n",
      "\u001b[0;32m~/anaconda3/lib/python3.8/site-packages/ipykernel/kernelbase.py\u001b[0m in \u001b[0;36mraw_input\u001b[0;34m(self, prompt)\u001b[0m\n\u001b[1;32m    858\u001b[0m                 \u001b[0;34m\"raw_input was called, but this frontend does not support input requests.\"\u001b[0m\u001b[0;34m\u001b[0m\u001b[0;34m\u001b[0m\u001b[0m\n\u001b[1;32m    859\u001b[0m             )\n\u001b[0;32m--> 860\u001b[0;31m         return self._input_request(str(prompt),\n\u001b[0m\u001b[1;32m    861\u001b[0m             \u001b[0mself\u001b[0m\u001b[0;34m.\u001b[0m\u001b[0m_parent_ident\u001b[0m\u001b[0;34m,\u001b[0m\u001b[0;34m\u001b[0m\u001b[0;34m\u001b[0m\u001b[0m\n\u001b[1;32m    862\u001b[0m             \u001b[0mself\u001b[0m\u001b[0;34m.\u001b[0m\u001b[0m_parent_header\u001b[0m\u001b[0;34m,\u001b[0m\u001b[0;34m\u001b[0m\u001b[0;34m\u001b[0m\u001b[0m\n",
      "\u001b[0;32m~/anaconda3/lib/python3.8/site-packages/ipykernel/kernelbase.py\u001b[0m in \u001b[0;36m_input_request\u001b[0;34m(self, prompt, ident, parent, password)\u001b[0m\n\u001b[1;32m    902\u001b[0m             \u001b[0;32mexcept\u001b[0m \u001b[0mKeyboardInterrupt\u001b[0m\u001b[0;34m:\u001b[0m\u001b[0;34m\u001b[0m\u001b[0;34m\u001b[0m\u001b[0m\n\u001b[1;32m    903\u001b[0m                 \u001b[0;31m# re-raise KeyboardInterrupt, to truncate traceback\u001b[0m\u001b[0;34m\u001b[0m\u001b[0;34m\u001b[0m\u001b[0;34m\u001b[0m\u001b[0m\n\u001b[0;32m--> 904\u001b[0;31m                 \u001b[0;32mraise\u001b[0m \u001b[0mKeyboardInterrupt\u001b[0m\u001b[0;34m(\u001b[0m\u001b[0;34m\"Interrupted by user\"\u001b[0m\u001b[0;34m)\u001b[0m \u001b[0;32mfrom\u001b[0m \u001b[0;32mNone\u001b[0m\u001b[0;34m\u001b[0m\u001b[0;34m\u001b[0m\u001b[0m\n\u001b[0m\u001b[1;32m    905\u001b[0m             \u001b[0;32mexcept\u001b[0m \u001b[0mException\u001b[0m \u001b[0;32mas\u001b[0m \u001b[0me\u001b[0m\u001b[0;34m:\u001b[0m\u001b[0;34m\u001b[0m\u001b[0;34m\u001b[0m\u001b[0m\n\u001b[1;32m    906\u001b[0m                 \u001b[0mself\u001b[0m\u001b[0;34m.\u001b[0m\u001b[0mlog\u001b[0m\u001b[0;34m.\u001b[0m\u001b[0mwarning\u001b[0m\u001b[0;34m(\u001b[0m\u001b[0;34m\"Invalid Message:\"\u001b[0m\u001b[0;34m,\u001b[0m \u001b[0mexc_info\u001b[0m\u001b[0;34m=\u001b[0m\u001b[0;32mTrue\u001b[0m\u001b[0;34m)\u001b[0m\u001b[0;34m\u001b[0m\u001b[0;34m\u001b[0m\u001b[0m\n",
      "\u001b[0;31mKeyboardInterrupt\u001b[0m: Interrupted by user"
     ]
    }
   ],
   "source": [
    "a = int(input())\n",
    "b = int(input())\n",
    "c = int(input())\n",
    "d = a*b*c\n",
    "e = [0 for i in range(10)]\n",
    "while d!=0:\n",
    "    e[d%10]+=1\n",
    "    d//=10\n",
    "for i in range(10):\n",
    "    print(e[i])"
   ]
  },
  {
   "cell_type": "code",
   "execution_count": 5,
   "metadata": {},
   "outputs": [
    {
     "name": "stdout",
     "output_type": "stream",
     "text": [
      "6 2 10 3\n",
      "1\n"
     ]
    }
   ],
   "source": [
    "x,y,w,h=map(int,input().split())\n",
    "w= w-x\n",
    "h= h-y\n",
    "print(min(x,y,w,h))"
   ]
  },
  {
   "cell_type": "code",
   "execution_count": 13,
   "metadata": {},
   "outputs": [
    {
     "name": "stdout",
     "output_type": "stream",
     "text": [
      "13\n",
      "but\n",
      "i\n",
      "wont\n",
      "hesitate\n",
      "no\n",
      "more\n",
      "no\n",
      "more\n",
      "it\n",
      "cannot\n",
      "wiat\n",
      "im\n",
      "yours\n",
      "['i', 'im', 'it', 'no', 'but', 'more', 'wiat', 'wont', 'yours', 'cannot', 'hesitate']\n"
     ]
    }
   ],
   "source": [
    "n = int(input())\n",
    "a = []\n",
    "for _ in range(n):\n",
    "    a.append(input())\n",
    "b=set(a)\n",
    "c = list(b)\n",
    "c.sort()\n",
    "c.sort(key=len)\n",
    "for d in c:\n",
    "    print(d)"
   ]
  },
  {
   "cell_type": "code",
   "execution_count": 20,
   "metadata": {},
   "outputs": [
    {
     "name": "stdout",
     "output_type": "stream",
     "text": [
      "121\n",
      "yes\n",
      "1231\n",
      "no\n",
      "12421\n",
      "yes\n",
      "0\n"
     ]
    }
   ],
   "source": [
    "while True:\n",
    "    a=input()\n",
    "    if(a=='0'):\n",
    "        break\n",
    "    for i in range(len(a)):\n",
    "        c=0\n",
    "        if a[i] != a[len(a)-i-1]:\n",
    "            print(\"no\")\n",
    "            c=1\n",
    "            break\n",
    "    if c==1:\n",
    "        pass\n",
    "    else:\n",
    "        print(\"yes\")\n",
    "    "
   ]
  },
  {
   "cell_type": "markdown",
   "metadata": {},
   "source": [
    "## "
   ]
  },
  {
   "cell_type": "code",
   "execution_count": 12,
   "metadata": {},
   "outputs": [
    {
     "name": "stdout",
     "output_type": "stream",
     "text": [
      "10000\n",
      "6560666\n"
     ]
    }
   ],
   "source": [
    "a = int(input())\n",
    "# i=0\n",
    "# b=0\n",
    "# while i!=a:\n",
    "#     if('666' in str(i)):\n",
    "#         pass\n",
    "#     else:\n",
    "#         b+=1\n",
    "#     i+=1\n",
    "print((b-1)*1000+666)"
   ]
  },
  {
   "cell_type": "markdown",
   "metadata": {},
   "source": [
    "## "
   ]
  },
  {
   "cell_type": "code",
   "execution_count": 14,
   "metadata": {},
   "outputs": [
    {
     "name": "stdout",
     "output_type": "stream",
     "text": [
      "5\n",
      "4 1 5 2 3\n",
      "5\n",
      "1 3 7 9 5\n",
      "0 4 1\n",
      "0 1 1\n",
      "1\n",
      "0 4 3\n",
      "1\n",
      "0 4 7\n",
      "3 4 7\n",
      "4 4 7\n",
      "5 4 7\n",
      "0\n",
      "0 4 9\n",
      "3 4 9\n",
      "4 4 9\n",
      "5 4 9\n",
      "0\n",
      "0 4 5\n",
      "3 4 5\n",
      "4 4 5\n",
      "1\n"
     ]
    }
   ],
   "source": [
    "n = int(input())\n",
    "a = list(map(int,input().split()))\n",
    "m = int(input())\n",
    "b = list(map(int,input().split()))\n",
    "a.sort()\n",
    "def binary_search(start,end,k):\n",
    "    if(start>end):\n",
    "        print(\"0\")\n",
    "        return\n",
    "    mid = (start+end)//2\n",
    "    if (a[mid]==k):\n",
    "        print(\"1\")\n",
    "        return\n",
    "    elif (a[mid]>k):\n",
    "        binary_search(start,mid-1,k)\n",
    "    else:\n",
    "        binary_search(mid+1,end,k)\n",
    "\n",
    "for i in b:\n",
    "    binary_search(0,n-1,i)"
   ]
  },
  {
   "cell_type": "code",
   "execution_count": 9,
   "metadata": {},
   "outputs": [
    {
     "name": "stdout",
     "output_type": "stream",
     "text": [
      "1 16\n",
      "2\n",
      "3\n",
      "5\n",
      "7\n",
      "11\n",
      "13\n"
     ]
    }
   ],
   "source": [
    "# 1929 소수 구하기\n",
    "a,b = map(int,input().split())\n",
    "arr = [0 for _ in range(b+1)]\n",
    "arr[1]=1\n",
    "for i in range(2,b+1):\n",
    "    for c in range(2*i,b+1,i):\n",
    "        arr[c]=1\n",
    "for j in range(a,b+1):\n",
    "    if arr[j]==0:\n",
    "        print(j)    "
   ]
  },
  {
   "cell_type": "code",
   "execution_count": 6,
   "metadata": {},
   "outputs": [
    {
     "name": "stdout",
     "output_type": "stream",
     "text": [
      "6\n",
      "1 2 3 4 5 6\n",
      "5\n"
     ]
    }
   ],
   "source": [
    "#1978 소수찾기\n",
    "n = int(input())\n",
    "a = list(map(int,input().split()))\n",
    "arr = [0 for _ in range(max(a)+1)]\n",
    "arr[1]=1\n",
    "for i in range(2,int(max(a)**(1/2))+1):\n",
    "    if(arr[i]==1):\n",
    "        continue\n",
    "    for c in range(2*i,max(a)+1,i):\n",
    "        arr[c]=1\n",
    "cnt=0        \n",
    "for i in a:\n",
    "    if arr[i]==0:\n",
    "        cnt+=1\n",
    "print(cnt)"
   ]
  },
  {
   "cell_type": "code",
   "execution_count": 33,
   "metadata": {},
   "outputs": [
    {
     "name": "stdout",
     "output_type": "stream",
     "text": [
      "5\n",
      "-1\n",
      "-2\n",
      "-3\n",
      "-1\n",
      "-2\n",
      "-2\n",
      "-2\n",
      "-1\n",
      "2\n"
     ]
    }
   ],
   "source": [
    "#2108 통계학\n",
    "n = int(input())\n",
    "a = []\n",
    "b = [0 for _ in range(8001)]\n",
    "for _ in range(n):\n",
    "    c = int(input())\n",
    "    a.append(c)\n",
    "    b[c+4000]+=1\n",
    "print(round(sum(a)/n))\n",
    "a.sort()\n",
    "\n",
    "print(a[n//2])\n",
    "\n",
    "cnt = 0\n",
    "c = max(b)\n",
    "e =[]\n",
    "for i in a:\n",
    "    if i not in e:\n",
    "        e.append(i)\n",
    "\n",
    "d = 0\n",
    "for i in e:\n",
    "    if(b[i+4000]==c):\n",
    "        cnt+=1\n",
    "        if(cnt==2):\n",
    "            d=i\n",
    "if cnt >= 2:\n",
    "    print(d)\n",
    "else:\n",
    "    print(b.index(max(b))-4000)\n",
    "print(max(a)-min(a))"
   ]
  },
  {
   "cell_type": "code",
   "execution_count": 38,
   "metadata": {},
   "outputs": [
    {
     "name": "stdout",
     "output_type": "stream",
     "text": [
      "6\n",
      "4\n"
     ]
    }
   ],
   "source": [
    "#2164 카드 2\n",
    "# n = int(input())\n",
    "# a = []\n",
    "# for i in range(1,n+1):\n",
    "#     a.append(i)\n",
    "    \n",
    "# while len(a) != 1:\n",
    "#     b = a.pop(0)\n",
    "#     a.append(a.pop(0))\n",
    "# print(a[0])\n",
    "from collections import deque\n",
    "n = int(input())\n",
    "a = deque([])\n",
    "for i in range(1,n+1):\n",
    "    a.append(i)\n",
    "    \n",
    "while len(a) != 1:\n",
    "    a.popleft()\n",
    "    a.append(a.popleft())\n",
    "print(a[0])"
   ]
  },
  {
   "cell_type": "code",
   "execution_count": 2,
   "metadata": {},
   "outputs": [
    {
     "name": "stdout",
     "output_type": "stream",
     "text": [
      "58\n",
      "5\n"
     ]
    }
   ],
   "source": [
    "#2292 벌집\n",
    "a = int(input())\n",
    "cnt = 0\n",
    "b = 1\n",
    "c = 0\n",
    "while True:\n",
    "    cnt+=1\n",
    "    if a<=b:\n",
    "        print(cnt)\n",
    "        break\n",
    "    c+=6\n",
    "    b+=c"
   ]
  },
  {
   "cell_type": "code",
   "execution_count": 10,
   "metadata": {},
   "outputs": [
    {
     "name": "stdout",
     "output_type": "stream",
     "text": [
      "24 18\n",
      "6\n",
      "72\n"
     ]
    }
   ],
   "source": [
    "#2609 최대공약수와 최소공배수\n",
    "a,b = map(int,input().split())\n",
    "for i in range(min(a,b),0,-1):\n",
    "    if (a%i)==0 and (b%i)==0:\n",
    "        print(i)\n",
    "        break\n",
    "for j in range(max(a,b),a*b+1):\n",
    "    if (j%a)==0 and (j%b)==0:\n",
    "        print(j)\n",
    "        break"
   ]
  },
  {
   "cell_type": "code",
   "execution_count": 18,
   "metadata": {},
   "outputs": [
    {
     "name": "stdout",
     "output_type": "stream",
     "text": [
      "8\n",
      "6661\n"
     ]
    }
   ],
   "source": [
    "#1436 영화감독 숌\n",
    "a = int(input())\n",
    "cnt=0\n",
    "for i in range(666,1000000000):\n",
    "    if '666' in str(i):\n",
    "        cnt+=1\n",
    "        if cnt == a:\n",
    "            print(i)\n",
    "            break"
   ]
  },
  {
   "cell_type": "code",
   "execution_count": 9,
   "metadata": {},
   "outputs": [
    {
     "name": "stdout",
     "output_type": "stream",
     "text": [
      "3\n",
      "1 0\n",
      "5\n",
      "2\n",
      "4 2\n",
      "1 2 3 4\n",
      "3\n",
      "6 0\n",
      "1 1 9 1 1 1\n",
      "6\n"
     ]
    }
   ],
   "source": [
    "#1966 프린터\n",
    "t = int(input())\n",
    "for _ in range(t):\n",
    "    a,b = map(int, input().split())\n",
    "    imp = list(map(int,input().split()))\n",
    "    idx = []\n",
    "    for i in range(a):\n",
    "        idx.append(i)\n",
    "    idx[b] = -1\n",
    "    cnt = 0\n",
    "    while True:\n",
    "        while max(imp)!=imp[0]:\n",
    "            imp.append(imp.pop(0))\n",
    "            idx.append(idx.pop(0))\n",
    "        cnt+=1\n",
    "        imp.pop(0)\n",
    "        if (idx.pop(0)==-1):\n",
    "            break\n",
    "    print(cnt)"
   ]
  },
  {
   "cell_type": "code",
   "execution_count": 18,
   "metadata": {},
   "outputs": [
    {
     "name": "stdout",
     "output_type": "stream",
     "text": [
      "8\n",
      "4\n",
      "3\n",
      "6\n",
      "8\n",
      "7\n",
      "5\n",
      "2\n",
      "1\n",
      "+\n",
      "+\n",
      "+\n",
      "+\n",
      "-\n",
      "-\n",
      "+\n",
      "+\n",
      "-\n",
      "+\n",
      "+\n",
      "-\n",
      "-\n",
      "-\n",
      "-\n",
      "-\n"
     ]
    }
   ],
   "source": [
    "#1874 스택수열\n",
    "n = int(input())\n",
    "arr1 = []\n",
    "for _ in range(n):\n",
    "    arr1.append(int(input()))\n",
    "arr2 = []\n",
    "for i in range(1,n+1):\n",
    "    arr2.append(i)\n",
    "stack = []\n",
    "result = []\n",
    "while arr1:\n",
    "    try:\n",
    "        for i in arr2:\n",
    "            stack.append(i)\n",
    "            result.append(\"+\")\n",
    "            while stack and (stack[-1]==arr1[0]):\n",
    "                result.append(\"-\")\n",
    "                arr1.pop(0)\n",
    "                stack.pop(-1)\n",
    "    except:\n",
    "            result = [\"NO\"]\n",
    "print('\\n'.join(result))"
   ]
  },
  {
   "cell_type": "code",
   "execution_count": null,
   "metadata": {},
   "outputs": [],
   "source": []
  },
  {
   "cell_type": "code",
   "execution_count": null,
   "metadata": {},
   "outputs": [],
   "source": []
  }
 ],
 "metadata": {
  "kernelspec": {
   "display_name": "Python 3",
   "language": "python",
   "name": "python3"
  },
  "language_info": {
   "codemirror_mode": {
    "name": "ipython",
    "version": 3
   },
   "file_extension": ".py",
   "mimetype": "text/x-python",
   "name": "python",
   "nbconvert_exporter": "python",
   "pygments_lexer": "ipython3",
   "version": "3.8.5"
  }
 },
 "nbformat": 4,
 "nbformat_minor": 4
}
