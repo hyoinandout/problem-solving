{
 "cells": [
  {
   "cell_type": "code",
   "execution_count": 10,
   "metadata": {},
   "outputs": [
    {
     "name": "stdout",
     "output_type": "stream",
     "text": [
      "100 2 1 1 0\n",
      "use the stairs\n"
     ]
    }
   ],
   "source": [
    "#5014 스타트링크\n",
    "from collections import deque\n",
    "f,s,g,u,d = map(int,input().split())\n",
    "visited = [False] * (f+1)\n",
    "def bfs(f,s,g,u,d,visited):\n",
    "    queue = deque()\n",
    "    queue.append(s)\n",
    "    visited[s]=True\n",
    "    cnt = 0\n",
    "    while queue:\n",
    "        for _ in range(len(queue)):\n",
    "            x = queue.popleft()\n",
    "            if x == g:\n",
    "                return cnt\n",
    "            nx = x + u\n",
    "            if(0<nx<=f and visited[nx]==False):\n",
    "                visited[nx]=True\n",
    "                queue.append(nx)\n",
    "            ny = x - d\n",
    "            if(0<ny<=f and visited[ny]==False):\n",
    "                visited[ny]=True\n",
    "                queue.append(ny)\n",
    "        cnt+=1\n",
    "    return \"use the stairs\"\n",
    "print(bfs(f,s,g,u,d,visited))"
   ]
  },
  {
   "cell_type": "code",
   "execution_count": null,
   "metadata": {},
   "outputs": [],
   "source": []
  }
 ],
 "metadata": {
  "kernelspec": {
   "display_name": "Python 3",
   "language": "python",
   "name": "python3"
  },
  "language_info": {
   "codemirror_mode": {
    "name": "ipython",
    "version": 3
   },
   "file_extension": ".py",
   "mimetype": "text/x-python",
   "name": "python",
   "nbconvert_exporter": "python",
   "pygments_lexer": "ipython3",
   "version": "3.8.5"
  }
 },
 "nbformat": 4,
 "nbformat_minor": 4
}
