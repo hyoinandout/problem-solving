{
 "cells": [
  {
   "cell_type": "code",
   "execution_count": 16,
   "metadata": {},
   "outputs": [
    {
     "name": "stdout",
     "output_type": "stream",
     "text": [
      "4 4\n",
      "1 1 2 2\n",
      "[1, 2]\n",
      "[1, 1, 1, 1]\n",
      "[1, 1, 1, 2]\n",
      "[1, 1, 2, 1]\n",
      "[1, 1, 2, 2]\n",
      "[1, 2, 1, 1]\n",
      "[1, 2, 1, 2]\n",
      "[1, 2, 2, 1]\n",
      "[1, 2, 2, 2]\n",
      "[2, 1, 1, 1]\n",
      "[2, 1, 1, 2]\n",
      "[2, 1, 2, 1]\n",
      "[2, 1, 2, 2]\n",
      "[2, 2, 1, 1]\n",
      "[2, 2, 1, 2]\n",
      "[2, 2, 2, 1]\n",
      "[2, 2, 2, 2]\n"
     ]
    }
   ],
   "source": [
    "#15666 N과 M\n",
    "n,m = map(int,input().split())\n",
    "a = list(set(list(map(int,input().split()))))\n",
    "a.sort()\n",
    "b = []\n",
    "def foo(a,b,m,now):\n",
    "    if m == now:\n",
    "        print(b)\n",
    "        return\n",
    "    for i in range(len(a)):\n",
    "        b.append(a[i])\n",
    "        foo(a,b,m,now+1)\n",
    "        b.pop()\n",
    "print(a)\n",
    "foo(a,b,m,0)"
   ]
  },
  {
   "cell_type": "code",
   "execution_count": 3,
   "metadata": {},
   "outputs": [
    {
     "name": "stdout",
     "output_type": "stream",
     "text": [
      "7\n",
      "40 10 30 50 90 80 60\n",
      "3\n"
     ]
    }
   ],
   "source": [
    "#11053 가장 긴 증가하는 부분 수열\n",
    "n = int(input())\n",
    "a = list(map(int,input().split()))\n",
    "result = [0] * n\n",
    "max = 0\n",
    "cnt = 0\n",
    "for i in range(len(a)):\n",
    "    if max < a[i]:\n",
    "        max = a[i]\n",
    "        cnt += 1\n",
    "    result[i] = cnt\n",
    "    \n",
    "print(result[n-1])"
   ]
  },
  {
   "cell_type": "code",
   "execution_count": null,
   "metadata": {},
   "outputs": [],
   "source": []
  }
 ],
 "metadata": {
  "kernelspec": {
   "display_name": "Python 3",
   "language": "python",
   "name": "python3"
  },
  "language_info": {
   "codemirror_mode": {
    "name": "ipython",
    "version": 3
   },
   "file_extension": ".py",
   "mimetype": "text/x-python",
   "name": "python",
   "nbconvert_exporter": "python",
   "pygments_lexer": "ipython3",
   "version": "3.8.5"
  }
 },
 "nbformat": 4,
 "nbformat_minor": 4
}
